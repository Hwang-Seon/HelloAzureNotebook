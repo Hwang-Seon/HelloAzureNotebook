{
  "cells": [
    {
      "metadata": {},
      "cell_type": "markdown",
      "source": "### 한줄씩 터미널에 복붙하며 따라해보자(복사는 Ctrl+c, 붙여넣기는 Ctrl+Shift+v)\n- git clone https://github.com/withSang/HelloAzureNotebook\n    - 이건 이미 돌려봤을 것이다\n    - withSang이 만든 HelloAzureNotebook 레포지토리를 자신의 저장소로 복제해온다\n    - 새로운 레포지토리를 가져올 때는 항상 이걸로 시작해야 한다\n- git config --global user.name \"사용자명\"\n    - git에 사용할 사용자명, 처음 한번만 실행하면 나중에 또 실행할 일은 없다\n    - github의 것과 같아도 되고 달라도 된다\n- git config --global user.email \"이메일\"\n    - 역시나 github의 것과 달라도 됨, 처음 한번만 실행하면 나중에 또 실행할 일은 없다 \n- gif config --global push.default simple\n    - 새로운 push 방식을 사용하겠다!, 처음 한번만 실행하면 나중에 또 실행할 일은 없다\n\n- cd HelloAzureNotebook\n    - 복제해온 레포지토리 폴더로 이동한다\n- git status\n    - 상태를 출력해보면 현재 받아온 branch는 master branch임을 알 수 있다"
    },
    {
      "metadata": {},
      "cell_type": "markdown",
      "source": "## Azure Notebooks 사용하기\n- 의외로 다른게 없다..?\n- 아니다. 가상환경에서 돌아가기 때문에 프로그래밍 언어 변경/라이브러리 설치,제거 등이 자유롭다.\n- 다만 어디까지나 가상환경 기반이므로 장기간 사용하지 않으면 강제로 커널이 초기화될 수는 있다."
    },
    {
      "metadata": {},
      "cell_type": "markdown",
      "source": "# 예제\n- 제임스 마틴 비확산 연구센터(James Martin Center for Nonproliferation Studies)에서 공개한 북한 미사일 발사 실험 일지\n    - 위 데이터베이스를 .csv 포맷으로 변환해서 North_Korea_missile_experiments.csv로 저장해 두었다\n    - https://www.nti.org/analysis/articles/cns-north-korea-missile-test-database/\n- 여기서 **발사에 성공**한 경우만 모은 뒤 지도에 어디서 얼마나 성공했는지를 시각화하려고 한다."
    },
    {
      "metadata": {},
      "cell_type": "markdown",
      "source": "## Basemap 설치하기(Matplotlib 기반 - 지도 시각화를 위해 필요함)"
    },
    {
      "metadata": {
        "trusted": true
      },
      "cell_type": "code",
      "source": "!pip install geos\n!pip install https://github.com/matplotlib/basemap/archive/master.zip",
      "execution_count": null,
      "outputs": []
    },
    {
      "metadata": {},
      "cell_type": "markdown",
      "source": "## 본격적으로 코드 짜보기"
    },
    {
      "metadata": {},
      "cell_type": "markdown",
      "source": "### 일단 미사일 발사 지점의 위도와 경도가 어떻게 저장되어 있는지 확인한다"
    },
    {
      "metadata": {
        "trusted": true
      },
      "cell_type": "code",
      "source": "with open('North_Korea_missile_experiments.csv', 'r') as csv:\n    firstrow = csv.readline().strip().split(',')\n    print(firstrow)\n    latlon_indexes = [firstrow.index(item) for item in firstrow if item in ['Facility Latitude', 'Facility Longitude']]\n    succeed_index = [firstrow.index(item) for item in firstrow if item=='Test Outcome']\n    print(latlon_indexes)\n    print(succeed_index)",
      "execution_count": null,
      "outputs": []
    },
    {
      "metadata": {},
      "cell_type": "markdown",
      "source": "### 이제 numpy를 이용하여 잘 가공한 다음 Basemap으로 시각화한다"
    },
    {
      "metadata": {
        "trusted": true
      },
      "cell_type": "code",
      "source": "from mpl_toolkits.basemap import Basemap\nimport matplotlib.pyplot as plt\nimport numpy as np\n\nlatlon = np.genfromtxt('North_Korea_missile_experiments.csv'       ) #위도, 경도 자료만 빼온다\nsucceed = np.genfromtxt('North_Korea_missile_experiments.csv',            , dtype=str)\nsucceed = np.where(succeed=='Success', 1, 0)\nlatlon = latlon[succeed==1] #성공한 경우만 남긴다\nlatlon = latlon[~np.isnan(latlon).any(axis=1)] #np.nan이 1개 이상 든 행들을 제거한다\nlat = latlon[:, 0]\nlon = latlon[:, 1]\n\nplt.figure()\n\nmap = Basemap(projection='merc', lat_0=37.35, lon_0=126.58, resolution = 'i',\n    llcrnrlat=38, urcrnrlat=43, llcrnrlon=124, urcrnrlon=132)\n\nx,y = map(lon[:], lat[:])\nmap.scatter(x, y, alpha=0.1, color='red', s=200)\nmap.drawcoastlines()\nmap.drawcountries()\nmap.drawmapboundary(color='black')\nmap.fillcontinents(color='grey')\n\nplt.show()",
      "execution_count": null,
      "outputs": []
    },
    {
      "metadata": {},
      "cell_type": "markdown",
      "source": "### Helloworld.ipynb를 완성했다면 아래 내용을 따라해보자\n- git add Helloworld.ipynb\n    - Helloworld.ipynb 파일을 commit에 넣을 것이라 선언!\n    - commit은 수정사항의 단위이다\n- git commit -m \"Helloworld.ipynb 추가\"\n    - commit을 추가한다(-m은 커밋에 대한 설명을 넣겠다는 말)\n- git push origin master\n    - master branch에 자신이 만든 commit을 반영한다\n    - 이 때 github 사용자명이랑 비밀번호를 입력해야 한다\n    \n    \n### 기타 - branch 만들고 이동하기, 삭제하기\n- git branch <브랜치명>\n    - branch를 추가한다\n- git checkout <브랜치명>\n    - 해당 branch로 이동한다(push하지 않은 것은 모두 날아가니 주의!)\n- git branch -d <브랜치명>\n    - 해당 branch를 삭제한다\n- git merge <브랜치명>\n    - 해당 브랜치를 master 브랜치와 병합시킨다"
    }
  ],
  "metadata": {
    "kernelspec": {
      "name": "python36",
      "display_name": "Python 3.6",
      "language": "python"
    },
    "language_info": {
      "mimetype": "text/x-python",
      "nbconvert_exporter": "python",
      "name": "python",
      "pygments_lexer": "ipython3",
      "version": "3.6.6",
      "file_extension": ".py",
      "codemirror_mode": {
        "version": 3,
        "name": "ipython"
      }
    }
  },
  "nbformat": 4,
  "nbformat_minor": 2
}
