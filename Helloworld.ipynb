{
  "cells": [
    {
      "metadata": {},
      "cell_type": "markdown",
      "source": "## Azure Notebooks 사용하기\n- 의외로 다른게 없다..?\n- 아니다. 가상환경에서 돌아가기 때문에 프로그래밍 언어 변경/라이브러리 설치,제거 등이 자유롭다.\n- 다만 어디까지나 가상환경 기반이므로 장기간 사용하지 않으면 강제로 커널이 초기화될 수는 있다."
    },
    {
      "metadata": {},
      "cell_type": "markdown",
      "source": "### Helloworld.txt의 내용을 보고 싶을 땐 어떤 코드를 짜야할까?"
    },
    {
      "metadata": {
        "trusted": true
      },
      "cell_type": "code",
      "source": "with open('Helloworld.txt', 'r') as f: #with문을 사용하면 이 코드블럭이 끝날 때 변수 f도 같이 사라진다\n    # 나머지 코드 채우기\n    ",
      "execution_count": null,
      "outputs": []
    }
  ],
  "metadata": {
    "kernelspec": {
      "name": "python36",
      "display_name": "Python 3.6",
      "language": "python"
    },
    "language_info": {
      "mimetype": "text/x-python",
      "nbconvert_exporter": "python",
      "name": "python",
      "pygments_lexer": "ipython3",
      "version": "3.6.6",
      "file_extension": ".py",
      "codemirror_mode": {
        "version": 3,
        "name": "ipython"
      }
    }
  },
  "nbformat": 4,
  "nbformat_minor": 2
}