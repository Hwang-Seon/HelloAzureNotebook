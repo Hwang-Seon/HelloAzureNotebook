{
  "cells": [
    {
      "metadata": {},
      "cell_type": "markdown",
      "source": "### 한줄씩 터미널에 복붙하며 따라해보자(복사는 Ctrl+c, 붙여넣기는 Ctrl+Shift+v)\n- git clone https://github.com/withSang/HelloAzureNotebook\n    - 이건 이미 돌려봤을 것이다\n    - withSang이 만든 HelloAzureNotebook 레포지토리를 자신의 저장소로 복제해온다\n    - 새로운 레포지토리를 가져올 때는 항상 이걸로 시작해야 한다\n- git config --global user.name \"사용자명\"\n    - git에 사용할 사용자명, 처음 한번만 실행하면 나중에 또 실행할 일은 없다\n    - github의 것과 같아도 되고 달라도 된다\n- git config --global user.email \"이메일\"\n    - 역시나 github의 것과 달라도 됨, 처음 한번만 실행하면 나중에 또 실행할 일은 없다 \n- gif config --global push.default simple\n    - 새로운 push 방식을 사용하겠다!, 처음 한번만 실행하면 나중에 또 실행할 일은 없다\n\n- cd HelloAzureNotebook\n    - 복제해온 레포지토리 폴더로 이동한다\n- git status\n    - 상태를 출력해보면 현재 받아온 branch는 master branch임을 알 수 있다"
    },
    {
      "metadata": {},
      "cell_type": "markdown",
      "source": "## Azure Notebooks 사용하기\n- 의외로 다른게 없다..?\n- 아니다. 가상환경에서 돌아가기 때문에 프로그래밍 언어 변경/라이브러리 설치,제거 등이 자유롭다.\n- 다만 어디까지나 가상환경 기반이므로 장기간 사용하지 않으면 강제로 커널이 초기화될 수는 있다."
    },
    {
      "metadata": {},
      "cell_type": "markdown",
      "source": "# 예제\n- 제임스 마틴 비확산 연구센터(James Martin Center for Nonproliferation Studies)에서 공개한 북한 미사일 발사 실험 일지\n    - 위 데이터베이스를 .csv 포맷으로 변환해서 North_Korea_missile_experiments.csv로 저장해 두었다\n    - https://www.nti.org/analysis/articles/cns-north-korea-missile-test-database/\n- 여기서 **발사에 성공**한 경우만 모은 뒤 지도에 어디서 얼마나 성공했는지를 시각화하려고 한다."
    },
    {
      "metadata": {},
      "cell_type": "markdown",
      "source": "## Basemap 설치하기(Matplotlib 기반 - 지도 시각화를 위해 필요함)"
    },
    {
      "metadata": {
        "trusted": true
      },
      "cell_type": "code",
      "source": "!pip install geos\n!pip install https://github.com/matplotlib/basemap/archive/master.zip",
      "execution_count": 1,
      "outputs": [
        {
          "output_type": "stream",
          "text": "Collecting geos\n\u001b[?25l  Downloading https://files.pythonhosted.org/packages/7a/1c/a7ae7e2685719b31dbde13e90c6386f872b8ee2670d833f4211b4e3d5106/geos-0.2.2-py3-none-any.whl (368kB)\n\u001b[K     |████████████████████████████████| 368kB 1.7MB/s eta 0:00:01\n\u001b[?25hRequirement already satisfied: flask in /home/nbuser/anaconda3_501/lib/python3.6/site-packages (from geos) (1.0.2)\nRequirement already satisfied: pillow in /home/nbuser/anaconda3_501/lib/python3.6/site-packages (from geos) (5.3.0)\nRequirement already satisfied: lxml in /home/nbuser/anaconda3_501/lib/python3.6/site-packages (from geos) (4.2.5)\nRequirement already satisfied: click>=5.1 in /home/nbuser/anaconda3_501/lib/python3.6/site-packages (from flask->geos) (7.0)\nRequirement already satisfied: Jinja2>=2.10 in /home/nbuser/anaconda3_501/lib/python3.6/site-packages (from flask->geos) (2.10)\nRequirement already satisfied: itsdangerous>=0.24 in /home/nbuser/anaconda3_501/lib/python3.6/site-packages (from flask->geos) (0.24)\nRequirement already satisfied: Werkzeug>=0.14 in /home/nbuser/anaconda3_501/lib/python3.6/site-packages (from flask->geos) (0.14.1)\nRequirement already satisfied: MarkupSafe>=0.23 in /home/nbuser/anaconda3_501/lib/python3.6/site-packages (from Jinja2>=2.10->flask->geos) (1.1.0)\nInstalling collected packages: geos\nSuccessfully installed geos-0.2.2\nCollecting https://github.com/matplotlib/basemap/archive/master.zip\n\u001b[?25l  Downloading https://github.com/matplotlib/basemap/archive/master.zip (133.1MB)\n\u001b[K     |████████████████████████████████| 133.1MB 1.5kB/s eta 0:00:013  |▊                               | 3.1MB 1.0MB/s eta 0:02:04     |██                              | 8.2MB 1.1MB/s eta 0:01:51     |██                              | 8.7MB 581kB/s eta 0:03:34     |██▌                             | 10.3MB 1.1MB/s eta 0:01:48     |███████▍                        | 30.8MB 1.3MB/s eta 0:01:16███▉                        | 32.7MB 163kB/s eta 0:10:16.6MB 147kB/s eta 0:10:53███████                       | 37.0MB 147kB/s eta 0:10:50.9MB 147kB/s eta 0:10:44     |██████████▏                     | 42.3MB 2.9MB/s eta 0:00:32.5MB 137kB/s eta 0:10:47                    | 45.0MB 137kB/s eta 0:10:43.0MB 137kB/s eta 0:10:36kB/s eta 0:08:01    | 53.5MB 176kB/s eta 0:07:31��█████                   | 53.9MB 176kB/s eta 0:07:28     |█████████████                   | 54.5MB 176kB/s eta 0:07:25███▎                  | 55.1MB 176kB/s eta 0:07:22███▍                  | 55.9MB 176kB/s eta 0:07:17     |█████████████▊                  | 57.0MB 1.6MB/s eta 0:00:49��█▊                  | 57.2MB 1.6MB/s eta 0:00:48            | 65.4MB 218kB/s eta 0:05:11�███████████▎               | 67.8MB 3.6MB/s eta 0:00:19�███████████▍               | 68.3MB 3.6MB/s eta 0:00:19     |████████████████▊               | 69.6MB 3.6MB/s eta 0:00:18�████████████               | 70.4MB 3.6MB/s eta 0:00:18/s eta 0:05:53/s eta 0:05:43/s eta 0:05:14              | 74.6MB 187kB/s eta 0:05:12��██▏             | 75.6MB 187kB/s eta 0:05:07��████████▉             | 78.3MB 10.6MB/s eta 0:00:06��███             | 79.4MB 2.2MB/s eta 0:00:25 0:00:25��███████████▏            | 79.9MB 635kB/s eta 0:01:24��███████████████▋            | 81.4MB 3.8MB/s eta 0:00:14��███████████████▋            | 81.7MB 3.8MB/s eta 0:00:14�██▊            | 82.1MB 3.8MB/s eta 0:00:14��████████████████            | 83.0MB 173kB/s eta 0:04:49��████████████████            | 83.3MB 173kB/s eta 0:04:47/s eta 0:04:43�█████████████████▍           | 84.8MB 173kB/s eta 0:04:38kB/s eta 0:05:20kB/s eta 0:05:1587.9MB 554kB/s eta 0:01:22kB/s eta 0:01:21:01:21█████████████████████▋          | 89.9MB 2.9MB/s eta 0:00:16��█████████████████▊          | 90.2MB 2.9MB/s eta 0:00:15��██████▎         | 92.5MB 2.9MB/s eta 0:00:15████████████████▋         | 94.0MB 292kB/s eta 0:02:14████████████████▊         | 94.5MB 292kB/s eta 0:02:12█████████████████         | 95.6MB 292kB/s eta 0:02:09    | 95.9MB 292kB/s eta 0:02:08MB 10.3MB/s eta 0:00:04MB 10.3MB/s eta 0:00:04 eta 0:00:09�█        | 100.1MB 3.8MB/s eta 0:00:09██████▍       | 101.7MB 2.1MB/s eta 0:00:15�███████▊       | 102.6MB 13.8MB/s eta 0:00:03███████████████████████▏      | 104.9MB 13.8MB/s eta 0:00:03��█████████████████▉      | 107.3MB 2.1MB/s eta 0:00:13   | 112.9MB 1.6MB/s eta 0:00:13   | 113.9MB 1.6MB/s eta 0:00:12   | 115.1MB 197kB/s eta 0:01:32████████████████████▊    | 115.4MB 197kB/s eta 0:01:30   | 116.3MB 197kB/s eta 0:01:25     |████████████████████████████    | 116.8MB 190kB/s eta 0:01:26��█████████▋   | 118.8MB 144kB/s eta 0:01:39�█████████▋   | 119.1MB 144kB/s eta 0:01:37█████████▊   | 119.5MB 144kB/s eta 0:01:35��████████▉   | 119.8MB 144kB/s eta 0:01:33��██████████   | 120.9MB 181kB/s eta 0:01:08��████████████████████▏  | 121.3MB 181kB/s eta 0:01:0521.6MB 181kB/s eta 0:01:04��████████████████████▌  | 122.6MB 181kB/s eta 0:00:58��████████████████████▌  | 122.8MB 144kB/s eta 0:01:1223.1MB 144kB/s eta 0:01:10██████████  | 124.9MB 144kB/s eta 0:00:57|██████████████████████████████  | 125.2MB 144kB/s eta 0:00:55    |██████████████████████████████▎ | 125.9MB 1.1MB/s eta 0:00:07�████████████████████████████▍ | 126.2MB 1.1MB/s eta 0:00:07    |██████████████████████████████▌ | 127.0MB 153kB/s eta 0:00:40    |██████████████████████████████▋ | 127.5MB 153kB/s eta 0:00:37�████████████████████████████▊ | 127.8MB 153kB/s eta 0:00:35█████████████████████████▉ | 128.1MB 153kB/s eta 0:00:33    |███████████████████████████████ | 129.2MB 582kB/s eta 0:00:07██████▌| 131.0MB 582kB/s eta 0:00:041.3MB 245kB/s eta 0:00:08�██████████████▉| 132.6MB 245kB/s eta 0:00:02████████████████████████████████| 132.9MB 245kB/s eta 0:00:01\n\u001b[?25hRequirement already satisfied: matplotlib!=3.0.1,>=1.0.0 in /home/nbuser/anaconda3_501/lib/python3.6/site-packages (from basemap==1.2.1) (3.0.0)\nRequirement already satisfied: numpy>=1.2.1 in /home/nbuser/anaconda3_501/lib/python3.6/site-packages (from basemap==1.2.1) (1.16.2)\nCollecting pyproj>=1.9.3 (from basemap==1.2.1)\n\u001b[?25l  Downloading https://files.pythonhosted.org/packages/63/50/b9ccba9a4fdc25df31949bcc75c12b2dc735fffa3ac91e385d70ca702523/pyproj-2.3.0-cp36-cp36m-manylinux1_x86_64.whl (9.8MB)\n\u001b[K     |████████████████████████████████| 9.8MB 6.2MB/s eta 0:00:01     |██████████████████████████████▊ | 9.4MB 6.2MB/s eta 0:00:01\n\u001b[?25hCollecting pyshp>=1.2.0 (from basemap==1.2.1)\n\u001b[?25l  Downloading https://files.pythonhosted.org/packages/27/16/3bf15aa864fb77845fab8007eda22c2bd67bd6c1fd13496df452c8c43621/pyshp-2.1.0.tar.gz (215kB)\n\u001b[K     |████████████████████████████████| 225kB 9.5MB/s eta 0:00:01\n\u001b[?25hRequirement already satisfied: six in /home/nbuser/anaconda3_501/lib/python3.6/site-packages (from basemap==1.2.1) (1.11.0)\nRequirement already satisfied: cycler>=0.10 in /home/nbuser/anaconda3_501/lib/python3.6/site-packages (from matplotlib!=3.0.1,>=1.0.0->basemap==1.2.1) (0.10.0)\nRequirement already satisfied: kiwisolver>=1.0.1 in /home/nbuser/anaconda3_501/lib/python3.6/site-packages (from matplotlib!=3.0.1,>=1.0.0->basemap==1.2.1) (1.0.1)\nRequirement already satisfied: pyparsing!=2.0.4,!=2.1.2,!=2.1.6,>=2.0.1 in /home/nbuser/anaconda3_501/lib/python3.6/site-packages (from matplotlib!=3.0.1,>=1.0.0->basemap==1.2.1) (2.3.0)\nRequirement already satisfied: python-dateutil>=2.1 in /home/nbuser/anaconda3_501/lib/python3.6/site-packages (from matplotlib!=3.0.1,>=1.0.0->basemap==1.2.1) (2.8.0)\nRequirement already satisfied: setuptools in /home/nbuser/anaconda3_501/lib/python3.6/site-packages (from kiwisolver>=1.0.1->matplotlib!=3.0.1,>=1.0.0->basemap==1.2.1) (41.1.0)\nBuilding wheels for collected packages: basemap, pyshp\n  Building wheel for basemap (setup.py) ... \u001b[?25ldone\n\u001b[?25h  Created wheel for basemap: filename=basemap-1.2.1-cp36-cp36m-linux_x86_64.whl size=121744627 sha256=50dceb517da6fcd08179bb6f3e4ddf954f40e65423460899c25fd3461b4c756c\n  Stored in directory: /tmp/pip-ephem-wheel-cache-8seygsee/wheels/98/4a/fc/ce719b75d97e646645c225f3332b1b217536100314922e9572\n  Building wheel for pyshp (setup.py) ... \u001b[?25ldone\n\u001b[?25h  Created wheel for pyshp: filename=pyshp-2.1.0-cp36-none-any.whl size=46296 sha256=20360b25b9f0e833e5a24a2cb19492684a15a4be477d73c47302502a309488df\n  Stored in directory: /home/nbuser/.cache/pip/wheels/a6/0c/de/321b5192ad416b328975a2f0385f72c64db4656501eba7cc1a\n",
          "name": "stdout"
        },
        {
          "output_type": "stream",
          "text": "Successfully built basemap pyshp\nInstalling collected packages: pyproj, pyshp, basemap\nSuccessfully installed basemap-1.2.1 pyproj-2.3.0 pyshp-2.1.0\n",
          "name": "stdout"
        }
      ]
    },
    {
      "metadata": {},
      "cell_type": "markdown",
      "source": "## 본격적으로 코드 짜보기"
    },
    {
      "metadata": {},
      "cell_type": "markdown",
      "source": "### 일단 미사일 발사 지점의 위도와 경도가 어떻게 저장되어 있는지 확인한다"
    },
    {
      "metadata": {
        "trusted": true
      },
      "cell_type": "code",
      "source": "with open('North_Korea_missile_experiments.csv', 'r') as csv:\n    firstrow = csv.readline().strip().split(',')\n    print(firstrow)\n    latlon_indexes = [firstrow.index(item) for item in firstrow if item in ['Facility Latitude', 'Facility Longitude']]\n    succeed_index = [firstrow.index(item) for item in firstrow if item=='Test Outcome']\n    print(latlon_indexes)\n    print(succeed_index)",
      "execution_count": null,
      "outputs": []
    },
    {
      "metadata": {},
      "cell_type": "markdown",
      "source": "### 이제 numpy를 이용하여 잘 가공한 다음 Basemap으로 시각화한다"
    },
    {
      "metadata": {
        "trusted": true
      },
      "cell_type": "code",
      "source": "from mpl_toolkits.basemap import Basemap\nimport matplotlib.pyplot as plt\nimport numpy as np\n\nlatlon = np.genfromtxt('North_Korea_missile_experiments.csv',delimeter=',',skip_header=True, usecols=(10,11)      ) #위도, 경도 자료만 빼온다\nsucceed = np.genfromtxt('North_Korea_missile_experiments.csv',delimeter=',',skip_header=True, usecols=16       ,dtype=str)\nsucceed = np.where(succeed=='Success', 1, 0)\nlatlon = latlon[succeed==1] #성공한 경우만 남긴다\nlatlon = latlon[~np.isnan(latlon).any(axis=1)] #np.nan이 1개 이상 든 행들을 제거한다\nlat = latlon[:, 0]\nlon = latlon[:, 1]\n\nplt.figure()\n\nmap = Basemap(projection='merc', lat_0=37.35, lon_0=126.58, resolution = 'i',\n    llcrnrlat=38, urcrnrlat=43, llcrnrlon=124, urcrnrlon=132)\n\nx,y = map(lon[:], lat[:])\nmap.scatter(x, y, alpha=0.1, color='red', s=200)\nmap.drawcoastlines()\nmap.drawcountries()\nmap.drawmapboundary(color='black')\nmap.fillcontinents(color='grey')\n\nplt.show()",
      "execution_count": null,
      "outputs": []
    },
    {
      "metadata": {},
      "cell_type": "markdown",
      "source": "### Helloworld.ipynb를 완성했다면 아래 내용을 따라해보자\n- git add Helloworld.ipynb\n    - Helloworld.ipynb 파일을 commit에 넣을 것이라 선언!\n    - commit은 수정사항의 단위이다\n- git commit -m \"Helloworld.ipynb 추가\"\n    - commit을 추가한다(-m은 커밋에 대한 설명을 넣겠다는 말)\n- git push origin master\n    - master branch에 자신이 만든 commit을 반영한다\n    - 이 때 github 사용자명이랑 비밀번호를 입력해야 한다\n    \n    \n### 기타 - branch 만들고 이동하기, 삭제하기\n- git branch <브랜치명>\n    - branch를 추가한다\n- git checkout <브랜치명>\n    - 해당 branch로 이동한다(push하지 않은 것은 모두 날아가니 주의!)\n- git branch -d <브랜치명>\n    - 해당 branch를 삭제한다\n- git merge <브랜치명>\n    - 해당 브랜치를 master 브랜치와 병합시킨다"
    }
  ],
  "metadata": {
    "kernelspec": {
      "name": "python36",
      "display_name": "Python 3.6",
      "language": "python"
    },
    "language_info": {
      "mimetype": "text/x-python",
      "nbconvert_exporter": "python",
      "name": "python",
      "pygments_lexer": "ipython3",
      "version": "3.6.6",
      "file_extension": ".py",
      "codemirror_mode": {
        "version": 3,
        "name": "ipython"
      }
    }
  },
  "nbformat": 4,
  "nbformat_minor": 2
}